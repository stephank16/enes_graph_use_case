{
 "cells": [
  {
   "cell_type": "markdown",
   "metadata": {},
   "source": [
    "# PROV Templates in Python\n",
    "\n",
    "     Author: Stephan Kindermann\n",
    "     Affiliation: DKRZ\n",
    "     Community: ENES (Earth System Sciences)\n",
    "     Version: 0.4 (July 2018)\n",
    "    \n",
    "**Motivation:**\n",
    "* The adoption of PROV templates in ENES community workflows is hindered by the following aspects:\n",
    "\n",
    "    * template generation in ENES oftenly needs to be tool based (template structure depends on project/experiment configuration) \n",
    "    * template instanciation in ENES oftenly is done in a scripting environment (most oftenly using python)\n",
    "    * template expansion currently is only supported by the **provconvert** java tool\n",
    "    * the transition from Java/provconvert to Python/prov is not fully supported (no import of provconvert output in prov supported) \n",
    "   \n",
    "* The sharing PROV adoption narratives is well supported by using jupyter notebooks and python.\n",
    "* Core infrastructure services in ENES are implemented using python. \n",
    "\n",
    "Therfore: \n",
    "* The java based **provconvert** tool thus is difficult to exploit in ENES use cases\n",
    "* Using prov templates is by now only usefull for \"documentation\" purposes - no impact on community approaches. \n",
    "* To have an impact on community approaches in the short term simple python based wrappers are needed which can be integrated in our community workflows.  \n",
    "\n",
    "**Approach taken**\n",
    "A simple template instantiation package (called provtemplates) was implemented supporting the instantiation of prov templates in python.  \n",
    "This approach on the one hand side allows to generate and use PROV templates in python and which on the other hand side allows for pure python based template instantiations.\n",
    "\n",
    "Drawback (by now) is that the elaborated prov expansion algorithm is not yet implemented fully. But expansion rules can implemented easyly explicitely in python when needed (and later integrated into the python package). To make the expansion explicit on the basis of python can also seen as an advantage as the community PROV adopters don't need to dig into the expansion algorithm implemented as part of provconvert (and eventual errors therein).\n",
    "\n",
    "The approach taken is illustrated in the following:   \n",
    "* PROV templates (being standard PROV documents) are generated in Python based on the prov library alongside PROV template instances.\n",
    "* A very simple instantiation algorithm is used to instantiate templates based on dictionaries containing the variable settings .. this instantiation algorithm can be stepwise expanded in the future\n"
   ]
  },
  {
   "cell_type": "markdown",
   "metadata": {},
   "source": [
    "## Note: New location for provtemplate development \n",
    "\n",
    "The provtemplate package is now further developed as part of the ENVRI+ project and development continues at https://github.com/EnvriPlus-PROV/EnvriProvTemplates"
   ]
  },
  {
   "cell_type": "markdown",
   "metadata": {},
   "source": [
    "## Generate a PROV template\n",
    "PROV templates are generated in functions with all RROV variables as parameters.\n",
    "This function is called with prov template variable names to generate prov templates. When called with instances the result is an prov document corresponding to the instantiated prov template.\n",
    "\n",
    "In the following the approach is illustrated based on a concrete examplec (corresponding to the first example in the provconvert tutorial). \n",
    "\n",
    "### Initialize empty PROV template with namespaces needed"
   ]
  },
  {
   "cell_type": "code",
   "execution_count": 1,
   "metadata": {},
   "outputs": [],
   "source": [
    "# Define namespaces used and generate a new empty \n",
    "# python prov template instance\n",
    "# Define the variable settings in the template as a dictionary\n",
    "\n",
    "from provtemplates import provconv\n",
    "import prov.model as prov\n",
    "import six\n",
    "import itertools\n",
    "\n",
    "\n",
    "ns_dict = {\n",
    "    'prov':'http://www.w3.org/ns/prov#',\n",
    "    'var':'http://openprovenance.org/var#',\n",
    "    'vargen':'http://openprovenance.org/vargen#',\n",
    "    'tmpl':'http://openprovenance.org/tmpl#',\n",
    "    'foaf':'http://xmlns.com/foaf/0.1/',\n",
    "    'ex': 'http://example.org/',\n",
    "    'orcid':'http://orcid.org/',\n",
    "\n",
    "    #document.set_default_namespace('http://example.org/0/')\n",
    "    'rdf':'http://www.w3.org/1999/02/22-rdf-syntax-ns#',\n",
    "    'rdfs':'http://www.w3.org/2000/01/rdf-schema#',\n",
    "    'xsd':'http://www.w3.org/2001/XMLSchema#',\n",
    "    'ex1': 'http://example.org/1/',\n",
    "    'ex2': 'http://example.org/2/'\n",
    "}\n",
    "\n",
    "entity_dict = {  \n",
    "    'var:author':['orcid:0000-0002-3494-120X','orcid:1111-1111-1111-111X'],\n",
    "    #'var:author':'orcid:0000-0002-3494-120X',\n",
    "    'var:quote':['ex:quote1','ex:quote2']\n",
    "}\n",
    "\n",
    "attr_dict = {\n",
    "    'var:value':['A Little Provenance Goes a Long Way','Test Test Test'],\n",
    "    'var:name':'Luc Moreau',    \n",
    "}\n",
    "\n",
    "instance_dict = entity_dict.copy()\n",
    "instance_dict.update(attr_dict)\n",
    "\n",
    "doc0 = provconv.set_namespaces(ns_dict,prov.ProvDocument())\n",
    "\n",
    "binding0 = provconv.set_namespaces(ns_dict,prov.ProvDocument())\n"
   ]
  },
  {
   "cell_type": "markdown",
   "metadata": {},
   "source": [
    "### Generate an example prov template and print (and store) it's provn representation"
   ]
  },
  {
   "cell_type": "code",
   "execution_count": 2,
   "metadata": {},
   "outputs": [
    {
     "data": {
      "text/plain": [
       "<ProvAttribution: (var:quote, var:author)>"
      ]
     },
     "execution_count": 2,
     "metadata": {},
     "output_type": "execute_result"
    }
   ],
   "source": [
    "bundle = doc0.bundle('vargen:bundleid')\n",
    "    #bundle.set_default_namespace('http://example.org/0/')\n",
    "    #bundle = prov_doc (for test with doc without bundles)\n",
    "quote = bundle.entity('var:quote',(\n",
    "         ('prov:value','var:value'),\n",
    "    ))    \n",
    "\n",
    "author = bundle.agent('var:author',(\n",
    "        (prov.PROV_TYPE, \"prov:Person\"),\n",
    "        ('foaf:name','var:name')\n",
    "    )) \n",
    "\n",
    "bundle.wasAttributedTo('var:quote','var:author')\n",
    "\n",
    "\n",
    "#doc1 = provconv.save_and_show(doc0,'C:\\\\Users\\\\snkin\\\\Repos\\\\enes_graph_use_case\\\\prov_templates\\\\test\\\\xxxx')"
   ]
  },
  {
   "cell_type": "code",
   "execution_count": 2,
   "metadata": {},
   "outputs": [],
   "source": [
    "doc1 = provconv.save_and_show(doc0,'C:\\\\Users\\\\snkin\\\\Repos\\\\enes_graph_use_case\\\\prov_templates\\\\test\\\\xxxx')"
   ]
  },
  {
   "cell_type": "code",
   "execution_count": 6,
   "metadata": {},
   "outputs": [
    {
     "data": {
      "text/plain": [
       "<QualifiedName: prov:Agent>"
      ]
     },
     "execution_count": 6,
     "metadata": {},
     "output_type": "execute_result"
    }
   ],
   "source": [
    "author.get_type()\n",
    "#author.get_asserted_types()\n",
    "#test = bundle.entity(\"var:test\")\n",
    "#test.add_asserted_type()"
   ]
  },
  {
   "cell_type": "code",
   "execution_count": null,
   "metadata": {},
   "outputs": [],
   "source": [
    "prov."
   ]
  },
  {
   "cell_type": "markdown",
   "metadata": {},
   "source": [
    "### Generate an example binding from a python dictionaries\n",
    "\n",
    "(one for entitities and one for variable bindings)"
   ]
  },
  {
   "cell_type": "code",
   "execution_count": 3,
   "metadata": {},
   "outputs": [
    {
     "name": "stdout",
     "output_type": "stream",
     "text": [
      "document\n",
      "  prefix var <http://openprovenance.org/var#>\n",
      "  prefix vargen <http://openprovenance.org/vargen#>\n",
      "  prefix tmpl <http://openprovenance.org/tmpl#>\n",
      "  prefix foaf <http://xmlns.com/foaf/0.1/>\n",
      "  prefix ex <http://example.org/>\n",
      "  prefix orcid <http://orcid.org/>\n",
      "  prefix rdf <http://www.w3.org/1999/02/22-rdf-syntax-ns#>\n",
      "  prefix rdfs <http://www.w3.org/2000/01/rdf-schema#>\n",
      "  prefix ex1 <http://example.org/1/>\n",
      "  prefix ex2 <http://example.org/2/>\n",
      "  prefix tmpl_1 <<http://openprovenance.org/tmpl#>>\n",
      "  \n",
      "  entity(var:author, [tmpl:value_0=\"orcid:0000-0002-3494-120X\"])\n",
      "  entity(var:author, [tmpl:value_1=\"orcid:1111-1111-1111-111X\"])\n",
      "  entity(var:quote, [tmpl:value_0=\"ex:quote1\"])\n",
      "  entity(var:quote, [tmpl:value_1=\"ex:quote2\"])\n",
      "  entity(var:value, [tmpl:2dvalue_0_0=\"A Little Provenance Goes a Long Way\"])\n",
      "  entity(var:value, [tmpl:2dvalue_1_0=\"Test Test Test\"])\n",
      "  entity(var:name, [tmpl:2dvalue_0_0=\"Luc Moreau\"])\n",
      "endDocument\n"
     ]
    }
   ],
   "source": [
    "binding1 = provconv.make_binding(binding0,entity_dict,attr_dict)\n",
    "print(binding1.get_provn())"
   ]
  },
  {
   "cell_type": "markdown",
   "metadata": {},
   "source": [
    "### Convert example to xml \n",
    "\n",
    "xml and rdf are the supported exchange formats for python prov (besides provn)\n"
   ]
  },
  {
   "cell_type": "code",
   "execution_count": 4,
   "metadata": {},
   "outputs": [
    {
     "name": "stdout",
     "output_type": "stream",
     "text": [
      "<?xml version='1.0' encoding='ASCII'?>\n",
      "<prov:document xmlns:ex=\"http://example.org/\" xmlns:ex1=\"http://example.org/1/\" xmlns:ex2=\"http://example.org/2/\" xmlns:foaf=\"http://xmlns.com/foaf/0.1/\" xmlns:orcid=\"http://orcid.org/\" xmlns:prov=\"http://www.w3.org/ns/prov#\" xmlns:rdf=\"http://www.w3.org/1999/02/22-rdf-syntax-ns#\" xmlns:rdfs=\"http://www.w3.org/2000/01/rdf-schema#\" xmlns:tmpl=\"http://openprovenance.org/tmpl#\" xmlns:var=\"http://openprovenance.org/var#\" xmlns:vargen=\"http://openprovenance.org/vargen#\" xmlns:xsd=\"http://www.w3.org/2001/XMLSchema\" xmlns:xsi=\"http://www.w3.org/2001/XMLSchema-instance\">\n",
      "  <prov:bundleContent prov:id=\"vargen:bundleid\">\n",
      "    <prov:entity prov:id=\"var:quote\">\n",
      "      <prov:value xsi:type=\"xsd:string\">var:value</prov:value>\n",
      "    </prov:entity>\n",
      "    <prov:entity prov:id=\"var:author\">\n",
      "      <prov:type>prov:Person</prov:type>\n",
      "      <foaf:name>var:name</foaf:name>\n",
      "    </prov:entity>\n",
      "    <prov:wasAttributedTo>\n",
      "      <prov:entity prov:ref=\"var:quote\"/>\n",
      "      <prov:agent prov:ref=\"var:author\"/>\n",
      "    </prov:wasAttributedTo>\n",
      "  </prov:bundleContent>\n",
      "</prov:document>\n",
      "\n"
     ]
    }
   ],
   "source": [
    "print(doc1.serialize(format='xml'))"
   ]
  },
  {
   "cell_type": "markdown",
   "metadata": {},
   "source": [
    "## Instantiate prov template\n",
    "\n",
    "the instantiation is done via the provconf.instantate_template function\n",
    "\n",
    "for comparison the template file as well as the instance are printed"
   ]
  },
  {
   "cell_type": "code",
   "execution_count": 3,
   "metadata": {},
   "outputs": [
    {
     "name": "stdout",
     "output_type": "stream",
     "text": [
      "document\n",
      "  prefix var <http://openprovenance.org/var#>\n",
      "  prefix vargen <http://openprovenance.org/vargen#>\n",
      "  prefix tmpl <http://openprovenance.org/tmpl#>\n",
      "  prefix foaf <http://xmlns.com/foaf/0.1/>\n",
      "  prefix ex <http://example.org/>\n",
      "  prefix orcid <http://orcid.org/>\n",
      "  prefix rdf <http://www.w3.org/1999/02/22-rdf-syntax-ns#>\n",
      "  prefix rdfs <http://www.w3.org/2000/01/rdf-schema#>\n",
      "  prefix ex1 <http://example.org/1/>\n",
      "  prefix ex2 <http://example.org/2/>\n",
      "  \n",
      "  bundle vargen:bundleid\n",
      "    prefix foaf <http://xmlns.com/foaf/0.1/>\n",
      "    \n",
      "    entity(var:quote, [prov:value=\"var:value\"])\n",
      "    agent(var:author, [prov:type=\"prov:Person\", foaf:name=\"var:name\"])\n",
      "    wasAttributedTo(var:quote, var:author)\n",
      "  endBundle\n",
      "endDocument\n",
      "document\n",
      "  prefix ex <http://example.org/>\n",
      "  prefix orcid <http://orcid.org/>\n",
      "  prefix ex1 <http://example.org/1/>\n",
      "  prefix rdfs <http://www.w3.org/2000/01/rdf-schema#>\n",
      "  prefix var <http://openprovenance.org/var#>\n",
      "  prefix foaf <http://xmlns.com/foaf/0.1/>\n",
      "  prefix tmpl <http://openprovenance.org/tmpl#>\n",
      "  prefix rdf <http://www.w3.org/1999/02/22-rdf-syntax-ns#>\n",
      "  prefix ex2 <http://example.org/2/>\n",
      "  prefix vargen <http://openprovenance.org/vargen#>\n",
      "  prefix uuid <urn:uuid:>\n",
      "  \n",
      "  bundle uuid:d5c50261-df4d-46fc-9449-8b027635c240\n",
      "    prefix foaf <http://xmlns.com/foaf/0.1/>\n",
      "    \n",
      "    entity(ex:quote1, [prov:value=\"A Little Provenance Goes a Long Way\"])\n",
      "    entity(ex:quote2, [prov:value=\"Test Test Test\"])\n",
      "    agent(orcid:0000-0002-3494-120X, [prov:type=\"prov:Person\", foaf:name=\"Luc Moreau\"])\n",
      "    agent(orcid:1111-1111-1111-111X, [prov:type=\"prov:Person\", foaf:name=\"Luc Moreau\"])\n",
      "    wasAttributedTo(ex:quote1, orcid:0000-0002-3494-120X)\n",
      "    wasAttributedTo(ex:quote1, orcid:1111-1111-1111-111X)\n",
      "    wasAttributedTo(ex:quote2, orcid:0000-0002-3494-120X)\n",
      "    wasAttributedTo(ex:quote2, orcid:1111-1111-1111-111X)\n",
      "  endBundle\n",
      "endDocument\n"
     ]
    }
   ],
   "source": [
    "new = provconv.instantiate_template(doc0,instance_dict)\n",
    "print(doc0.get_provn())\n",
    "print(new.get_provn())"
   ]
  },
  {
   "cell_type": "code",
   "execution_count": 4,
   "metadata": {},
   "outputs": [
    {
     "data": {
      "image/png": "[encoded data removed]",
      "text/plain": [
       "<Figure size 246.24x243.36 with 1 Axes>"
      ]
     },
     "metadata": {},
     "output_type": "display_data"
    },
    {
     "data": {
      "image/png": "[encoded data removed]",
      "text/plain": [
       "<Figure size 588.24x243.36 with 1 Axes>"
      ]
     },
     "metadata": {},
     "output_type": "display_data"
    }
   ],
   "source": [
    "%matplotlib  inline\n",
    "doc1.plot()\n",
    "new.plot()"
   ]
  },
  {
   "cell_type": "markdown",
   "metadata": {},
   "source": [
    "## Compare with original ProvToolbox example: "
   ]
  },
  {
   "cell_type": "code",
   "execution_count": null,
   "metadata": {},
   "outputs": [],
   "source": [
    "# %load Downloads/ProvToolbox-Tutorial4-0.7.0/src/main/resources/template1.provn\n",
    "\n",
    "document\n",
    "\n",
    "  prefix var <http://openprovenance.org/var#>\n",
    "  prefix vargen <http://openprovenance.org/vargen#>\n",
    "  prefix tmpl <http://openprovenance.org/tmpl#>\n",
    "\n",
    "  prefix foaf <http://xmlns.com/foaf/0.1/>\n",
    "  \n",
    "  bundle vargen:bundleId\n",
    "    entity(var:quote, [prov:value='var:value'])\n",
    "    entity(var:author, [prov:type='prov:Person', foaf:name='var:name'])\n",
    "    wasAttributedTo(var:quote,var:author)\n",
    "  endBundle\n",
    "\n",
    "endDocument\n"
   ]
  },
  {
   "cell_type": "code",
   "execution_count": null,
   "metadata": {},
   "outputs": [],
   "source": [
    "# take same instantiation as in the tutorial:\n",
    "# %load Downloads/ProvToolbox-Tutorial4-0.7.0/src/main/resources/binding1.ttl\n",
    "@prefix prov: <http://www.w3.org/ns/prov#> .\n",
    "@prefix xsd: <http://www.w3.org/2001/XMLSchema#> .\n",
    "@prefix tmpl: <http://openprovenance.org/tmpl#> .\n",
    "@prefix var: <http://openprovenance.org/var#> .\n",
    "@prefix ex: <http://example.com/#> .\n",
    "\n",
    "var:author a prov:Entity;\n",
    "           tmpl:value_0 <http://orcid.org/0000-0002-3494-120X>.\n",
    "var:name   a prov:Entity;\n",
    "           tmpl:2dvalue_0_0 \"Luc Moreau\".\n",
    "var:quote  a prov:Entity;\n",
    "           tmpl:value_0 ex:quote1.\n",
    "var:value  a prov:Entity;\n",
    "           tmpl:2dvalue_0_0 \"A Little Provenance Goes a Long Way\".\n",
    "\n"
   ]
  },
  {
   "cell_type": "markdown",
   "metadata": {},
   "source": [
    "## Instantiate PROV template using provconvert and compare results\n",
    "\n",
    "the python prov implementation does not support deserialization form provn and ttl -\n",
    "thus converting to xml or rdf is necessary .."
   ]
  },
  {
   "cell_type": "code",
   "execution_count": null,
   "metadata": {},
   "outputs": [],
   "source": [
    "!provconvert -infile test/template1.provn -bindings test/binding1.ttl -outfile test/doc1.provn"
   ]
  },
  {
   "cell_type": "code",
   "execution_count": null,
   "metadata": {},
   "outputs": [],
   "source": [
    "!provconvert -infile test/template1.provn -outfile test/template1.xml"
   ]
  },
  {
   "cell_type": "code",
   "execution_count": null,
   "metadata": {},
   "outputs": [],
   "source": [
    "!provconvert -infile test/binding1.ttl -outfile test/binding1.xml"
   ]
  },
  {
   "cell_type": "code",
   "execution_count": null,
   "metadata": {},
   "outputs": [],
   "source": [
    "!provconvert -infile test/doc1.provn -outfile test/doc1.xml"
   ]
  },
  {
   "cell_type": "code",
   "execution_count": null,
   "metadata": {},
   "outputs": [],
   "source": [
    "!provconvert -infile test/template1.provn  -outfile test/template1.rdf"
   ]
  },
  {
   "cell_type": "code",
   "execution_count": null,
   "metadata": {},
   "outputs": [],
   "source": [
    "!provconvert -infile test/doc1.provn -outfile test/doc1.rdf"
   ]
  },
  {
   "cell_type": "code",
   "execution_count": null,
   "metadata": {},
   "outputs": [],
   "source": [
    "# import template and generated provn representation in python\n",
    "with open('test/template1.xml') as in_file:\n",
    "    prov_d = prov.ProvDocument()\n",
    "    prov_d = prov_d.deserialize(source=in_file,format='xml')\n",
    "    \n",
    "with open('test/binding1.xml') as in_file:\n",
    "    prov_t = prov.ProvDocument()\n",
    "    prov_t = prov_d.deserialize(source=in_file,format='xml')    \n",
    "\n",
    "\n",
    "with open('test/doc1.xml') as in_file:\n",
    "    prov_i = prov.ProvDocument()\n",
    "    prov_i = prov_d.deserialize(source=in_file,format='xml')\n",
    "    \n",
    "print(prov_d.get_provn()) \n",
    "print(prov_t.get_provn())\n",
    "print(prov_i.get_provn())\n",
    "\n",
    "print(prov_i.serialize(format='rdf'))"
   ]
  },
  {
   "cell_type": "code",
   "execution_count": null,
   "metadata": {},
   "outputs": [],
   "source": [
    "# %load test/doc1.provn\n",
    "document\n",
    "bundle uuid:672b425e-a7db-470f-8653-7318d9ae8ec1\n",
    "prefix foaf <http://xmlns.com/foaf/0.1/>\n",
    "prefix pre_0 <http://orcid.org/>\n",
    "prefix ex <http://example.com/#>\n",
    "prefix uuid <urn:uuid:>\n",
    "\n",
    "entity(ex:quote1,[prov:value = \"A Little Provenance Goes a Long Way\" %% xsd:string])\n",
    "entity(pre_0:0000-0002-3494-120X,[prov:type = 'prov:Person', foaf:name = \"Luc Moreau\" %% xsd:string])\n",
    "wasAttributedTo(ex:quote1, pre_0:0000-0002-3494-120X)\n",
    "endBundle\n",
    "endDocument\n"
   ]
  },
  {
   "cell_type": "code",
   "execution_count": null,
   "metadata": {},
   "outputs": [],
   "source": [
    "!provconvert -infile test/doc1.provn -outfile test/doc1.png\n"
   ]
  },
  {
   "cell_type": "code",
   "execution_count": null,
   "metadata": {},
   "outputs": [],
   "source": [
    "!provconvert -infile test/template1.provn -outfile test/template1.png"
   ]
  },
  {
   "cell_type": "code",
   "execution_count": null,
   "metadata": {},
   "outputs": [],
   "source": [
    "# %load Downloads/ProvToolbox-Tutorial4-0.7.0/target/doc1.provn\n",
    "document\n",
    "bundle uuid:4c7236d5-6420-4a88-b192-6089e27aa88e\n",
    "prefix foaf <http://xmlns.com/foaf/0.1/>\n",
    "prefix pre_0 <http://orcid.org/>\n",
    "prefix ex <http://example.com/#>\n",
    "prefix uuid <urn:uuid:>\n",
    "\n",
    "entity(ex:quote1,[prov:value = \"A Little Provenance Goes a Long Way\" %% xsd:string])\n",
    "entity(pre_0:0000-0002-3494-120X,[prov:type = 'prov:Person', foaf:name = \"Luc Moreau\" %% xsd:string])\n",
    "wasAttributedTo(ex:quote1, pre_0:0000-0002-3494-120X)\n",
    "endBundle\n",
    "endDocument\n"
   ]
  },
  {
   "cell_type": "markdown",
   "metadata": {},
   "source": [
    "# Show provconvert result to compare\n",
    "\n",
    "![in](./test/doc1.png)\n",
    "![out](./test/doc2.png)"
   ]
  },
  {
   "cell_type": "markdown",
   "metadata": {},
   "source": [
    "## Test: try bokeh for graph visualization"
   ]
  },
  {
   "cell_type": "code",
   "execution_count": 10,
   "metadata": {},
   "outputs": [],
   "source": [
    "import networkx as nx\n",
    "from bokeh.models import Range1d, Plot\n",
    "from bokeh.models.graphs import from_networkx"
   ]
  },
  {
   "cell_type": "code",
   "execution_count": 9,
   "metadata": {},
   "outputs": [
    {
     "data": {
      "text/html": [
       "\n",
       "    <div class=\"bk-root\">\n",
       "        <a href=\"https://bokeh.pydata.org\" target=\"_blank\" class=\"bk-logo bk-logo-small bk-logo-notebook\"></a>\n",
       "        <span id=\"f1d7bef3-4aa3-4d38-9ff0-d8b83182f530\">Loading BokehJS ...</span>\n",
       "    </div>"
      ]
     },
     "metadata": {},
     "output_type": "display_data"
    },
    {
     "data": {
      "application/javascript": [
       "\n",
       "(function(root) {\n",
       "  function now() {\n",
       "    return new Date();\n",
       "  }\n",
       "\n",
       "  var force = true;\n",
       "\n",
       "  if (typeof (root._bokeh_onload_callbacks) === \"undefined\" || force === true) {\n",
       "    root._bokeh_onload_callbacks = [];\n",
       "    root._bokeh_is_loading = undefined;\n",
       "  }\n",
       "\n",
       "  var JS_MIME_TYPE = 'application/javascript';\n",
       "  var HTML_MIME_TYPE = 'text/html';\n",
       "  var EXEC_MIME_TYPE = 'application/vnd.bokehjs_exec.v0+json';\n",
       "  var CLASS_NAME = 'output_bokeh rendered_html';\n",
       "\n",
       "  /**\n",
       "   * Render data to the DOM node\n",
       "   */\n",
       "  function render(props, node) {\n",
       "    var script = document.createElement(\"script\");\n",
       "    node.appendChild(script);\n",
       "  }\n",
       "\n",
       "  /**\n",
       "   * Handle when an output is cleared or removed\n",
       "   */\n",
       "  function handleClearOutput(event, handle) {\n",
       "    var cell = handle.cell;\n",
       "\n",
       "    var id = cell.output_area._bokeh_element_id;\n",
       "    var server_id = cell.output_area._bokeh_server_id;\n",
       "    // Clean up Bokeh references\n",
       "    if (id != null && id in Bokeh.index) {\n",
       "      Bokeh.index[id].model.document.clear();\n",
       "      delete Bokeh.index[id];\n",
       "    }\n",
       "\n",
       "    if (server_id !== undefined) {\n",
       "      // Clean up Bokeh references\n",
       "      var cmd = \"from bokeh.io.state import curstate; print(curstate().uuid_to_server['\" + server_id + \"'].get_sessions()[0].document.roots[0]._id)\";\n",
       "      cell.notebook.kernel.execute(cmd, {\n",
       "        iopub: {\n",
       "          output: function(msg) {\n",
       "            var id = msg.content.text.trim();\n",
       "            if (id in Bokeh.index) {\n",
       "              Bokeh.index[id].model.document.clear();\n",
       "              delete Bokeh.index[id];\n",
       "            }\n",
       "          }\n",
       "        }\n",
       "      });\n",
       "      // Destroy server and session\n",
       "      var cmd = \"import bokeh.io.notebook as ion; ion.destroy_server('\" + server_id + \"')\";\n",
       "      cell.notebook.kernel.execute(cmd);\n",
       "    }\n",
       "  }\n",
       "\n",
       "  /**\n",
       "   * Handle when a new output is added\n",
       "   */\n",
       "  function handleAddOutput(event, handle) {\n",
       "    var output_area = handle.output_area;\n",
       "    var output = handle.output;\n",
       "\n",
       "    // limit handleAddOutput to display_data with EXEC_MIME_TYPE content only\n",
       "    if ((output.output_type != \"display_data\") || (!output.data.hasOwnProperty(EXEC_MIME_TYPE))) {\n",
       "      return\n",
       "    }\n",
       "\n",
       "    var toinsert = output_area.element.find(\".\" + CLASS_NAME.split(' ')[0]);\n",
       "\n",
       "    if (output.metadata[EXEC_MIME_TYPE][\"id\"] !== undefined) {\n",
       "      toinsert[toinsert.length - 1].firstChild.textContent = output.data[JS_MIME_TYPE];\n",
       "      // store reference to embed id on output_area\n",
       "      output_area._bokeh_element_id = output.metadata[EXEC_MIME_TYPE][\"id\"];\n",
       "    }\n",
       "    if (output.metadata[EXEC_MIME_TYPE][\"server_id\"] !== undefined) {\n",
       "      var bk_div = document.createElement(\"div\");\n",
       "      bk_div.innerHTML = output.data[HTML_MIME_TYPE];\n",
       "      var script_attrs = bk_div.children[0].attributes;\n",
       "      for (var i = 0; i < script_attrs.length; i++) {\n",
       "        toinsert[toinsert.length - 1].firstChild.setAttribute(script_attrs[i].name, script_attrs[i].value);\n",
       "      }\n",
       "      // store reference to server id on output_area\n",
       "      output_area._bokeh_server_id = output.metadata[EXEC_MIME_TYPE][\"server_id\"];\n",
       "    }\n",
       "  }\n",
       "\n",
       "  function register_renderer(events, OutputArea) {\n",
       "\n",
       "    function append_mime(data, metadata, element) {\n",
       "      // create a DOM node to render to\n",
       "      var toinsert = this.create_output_subarea(\n",
       "        metadata,\n",
       "        CLASS_NAME,\n",
       "        EXEC_MIME_TYPE\n",
       "      );\n",
       "      this.keyboard_manager.register_events(toinsert);\n",
       "      // Render to node\n",
       "      var props = {data: data, metadata: metadata[EXEC_MIME_TYPE]};\n",
       "      render(props, toinsert[toinsert.length - 1]);\n",
       "      element.append(toinsert);\n",
       "      return toinsert\n",
       "    }\n",
       "\n",
       "    /* Handle when an output is cleared or removed */\n",
       "    events.on('clear_output.CodeCell', handleClearOutput);\n",
       "    events.on('delete.Cell', handleClearOutput);\n",
       "\n",
       "    /* Handle when a new output is added */\n",
       "    events.on('output_added.OutputArea', handleAddOutput);\n",
       "\n",
       "    /**\n",
       "     * Register the mime type and append_mime function with output_area\n",
       "     */\n",
       "    OutputArea.prototype.register_mime_type(EXEC_MIME_TYPE, append_mime, {\n",
       "      /* Is output safe? */\n",
       "      safe: true,\n",
       "      /* Index of renderer in `output_area.display_order` */\n",
       "      index: 0\n",
       "    });\n",
       "  }\n",
       "\n",
       "  // register the mime type if in Jupyter Notebook environment and previously unregistered\n",
       "  if (root.Jupyter !== undefined) {\n",
       "    var events = require('base/js/events');\n",
       "    var OutputArea = require('notebook/js/outputarea').OutputArea;\n",
       "\n",
       "    if (OutputArea.prototype.mime_types().indexOf(EXEC_MIME_TYPE) == -1) {\n",
       "      register_renderer(events, OutputArea);\n",
       "    }\n",
       "  }\n",
       "\n",
       "  \n",
       "  if (typeof (root._bokeh_timeout) === \"undefined\" || force === true) {\n",
       "    root._bokeh_timeout = Date.now() + 5000;\n",
       "    root._bokeh_failed_load = false;\n",
       "  }\n",
       "\n",
       "  var NB_LOAD_WARNING = {'data': {'text/html':\n",
       "     \"<div style='background-color: #fdd'>\\n\"+\n",
       "     \"<p>\\n\"+\n",
       "     \"BokehJS does not appear to have successfully loaded. If loading BokehJS from CDN, this \\n\"+\n",
       "     \"may be due to a slow or bad network connection. Possible fixes:\\n\"+\n",
       "     \"</p>\\n\"+\n",
       "     \"<ul>\\n\"+\n",
       "     \"<li>re-rerun `output_notebook()` to attempt to load from CDN again, or</li>\\n\"+\n",
       "     \"<li>use INLINE resources instead, as so:</li>\\n\"+\n",
       "     \"</ul>\\n\"+\n",
       "     \"<code>\\n\"+\n",
       "     \"from bokeh.resources import INLINE\\n\"+\n",
       "     \"output_notebook(resources=INLINE)\\n\"+\n",
       "     \"</code>\\n\"+\n",
       "     \"</div>\"}};\n",
       "\n",
       "  function display_loaded() {\n",
       "    var el = document.getElementById(\"f1d7bef3-4aa3-4d38-9ff0-d8b83182f530\");\n",
       "    if (el != null) {\n",
       "      el.textContent = \"BokehJS is loading...\";\n",
       "    }\n",
       "    if (root.Bokeh !== undefined) {\n",
       "      if (el != null) {\n",
       "        el.textContent = \"BokehJS \" + root.Bokeh.version + \" successfully loaded.\";\n",
       "      }\n",
       "    } else if (Date.now() < root._bokeh_timeout) {\n",
       "      setTimeout(display_loaded, 100)\n",
       "    }\n",
       "  }\n",
       "\n",
       "\n",
       "  function run_callbacks() {\n",
       "    try {\n",
       "      root._bokeh_onload_callbacks.forEach(function(callback) { callback() });\n",
       "    }\n",
       "    finally {\n",
       "      delete root._bokeh_onload_callbacks\n",
       "    }\n",
       "    console.info(\"Bokeh: all callbacks have finished\");\n",
       "  }\n",
       "\n",
       "  function load_libs(js_urls, callback) {\n",
       "    root._bokeh_onload_callbacks.push(callback);\n",
       "    if (root._bokeh_is_loading > 0) {\n",
       "      console.log(\"Bokeh: BokehJS is being loaded, scheduling callback at\", now());\n",
       "      return null;\n",
       "    }\n",
       "    if (js_urls == null || js_urls.length === 0) {\n",
       "      run_callbacks();\n",
       "      return null;\n",
       "    }\n",
       "    console.log(\"Bokeh: BokehJS not loaded, scheduling load and callback at\", now());\n",
       "    root._bokeh_is_loading = js_urls.length;\n",
       "    for (var i = 0; i < js_urls.length; i++) {\n",
       "      var url = js_urls[i];\n",
       "      var s = document.createElement('script');\n",
       "      s.src = url;\n",
       "      s.async = false;\n",
       "      s.onreadystatechange = s.onload = function() {\n",
       "        root._bokeh_is_loading--;\n",
       "        if (root._bokeh_is_loading === 0) {\n",
       "          console.log(\"Bokeh: all BokehJS libraries loaded\");\n",
       "          run_callbacks()\n",
       "        }\n",
       "      };\n",
       "      s.onerror = function() {\n",
       "        console.warn(\"failed to load library \" + url);\n",
       "      };\n",
       "      console.log(\"Bokeh: injecting script tag for BokehJS library: \", url);\n",
       "      document.getElementsByTagName(\"head\")[0].appendChild(s);\n",
       "    }\n",
       "  };var element = document.getElementById(\"f1d7bef3-4aa3-4d38-9ff0-d8b83182f530\");\n",
       "  if (element == null) {\n",
       "    console.log(\"Bokeh: ERROR: autoload.js configured with elementid 'f1d7bef3-4aa3-4d38-9ff0-d8b83182f530' but no matching script tag was found. \")\n",
       "    return false;\n",
       "  }\n",
       "\n",
       "  var js_urls = [\"https://cdn.pydata.org/bokeh/release/bokeh-0.13.0.min.js\", \"https://cdn.pydata.org/bokeh/release/bokeh-widgets-0.13.0.min.js\", \"https://cdn.pydata.org/bokeh/release/bokeh-tables-0.13.0.min.js\", \"https://cdn.pydata.org/bokeh/release/bokeh-gl-0.13.0.min.js\"];\n",
       "\n",
       "  var inline_js = [\n",
       "    function(Bokeh) {\n",
       "      Bokeh.set_log_level(\"info\");\n",
       "    },\n",
       "    \n",
       "    function(Bokeh) {\n",
       "      \n",
       "    },\n",
       "    function(Bokeh) {\n",
       "      console.log(\"Bokeh: injecting CSS: https://cdn.pydata.org/bokeh/release/bokeh-0.13.0.min.css\");\n",
       "      Bokeh.embed.inject_css(\"https://cdn.pydata.org/bokeh/release/bokeh-0.13.0.min.css\");\n",
       "      console.log(\"Bokeh: injecting CSS: https://cdn.pydata.org/bokeh/release/bokeh-widgets-0.13.0.min.css\");\n",
       "      Bokeh.embed.inject_css(\"https://cdn.pydata.org/bokeh/release/bokeh-widgets-0.13.0.min.css\");\n",
       "      console.log(\"Bokeh: injecting CSS: https://cdn.pydata.org/bokeh/release/bokeh-tables-0.13.0.min.css\");\n",
       "      Bokeh.embed.inject_css(\"https://cdn.pydata.org/bokeh/release/bokeh-tables-0.13.0.min.css\");\n",
       "    }\n",
       "  ];\n",
       "\n",
       "  function run_inline_js() {\n",
       "    \n",
       "    if ((root.Bokeh !== undefined) || (force === true)) {\n",
       "      for (var i = 0; i < inline_js.length; i++) {\n",
       "        inline_js[i].call(root, root.Bokeh);\n",
       "      }if (force === true) {\n",
       "        display_loaded();\n",
       "      }} else if (Date.now() < root._bokeh_timeout) {\n",
       "      setTimeout(run_inline_js, 100);\n",
       "    } else if (!root._bokeh_failed_load) {\n",
       "      console.log(\"Bokeh: BokehJS failed to load within specified timeout.\");\n",
       "      root._bokeh_failed_load = true;\n",
       "    } else if (force !== true) {\n",
       "      var cell = $(document.getElementById(\"f1d7bef3-4aa3-4d38-9ff0-d8b83182f530\")).parents('.cell').data().cell;\n",
       "      cell.output_area.append_execute_result(NB_LOAD_WARNING)\n",
       "    }\n",
       "\n",
       "  }\n",
       "\n",
       "  if (root._bokeh_is_loading === 0) {\n",
       "    console.log(\"Bokeh: BokehJS loaded, going straight to plotting\");\n",
       "    run_inline_js();\n",
       "  } else {\n",
       "    load_libs(js_urls, function() {\n",
       "      console.log(\"Bokeh: BokehJS plotting callback run at\", now());\n",
       "      run_inline_js();\n",
       "    });\n",
       "  }\n",
       "}(window));"
      ],
      "application/vnd.bokehjs_load.v0+json": "\n(function(root) {\n  function now() {\n    return new Date();\n  }\n\n  var force = true;\n\n  if (typeof (root._bokeh_onload_callbacks) === \"undefined\" || force === true) {\n    root._bokeh_onload_callbacks = [];\n    root._bokeh_is_loading = undefined;\n  }\n\n  \n\n  \n  if (typeof (root._bokeh_timeout) === \"undefined\" || force === true) {\n    root._bokeh_timeout = Date.now() + 5000;\n    root._bokeh_failed_load = false;\n  }\n\n  var NB_LOAD_WARNING = {'data': {'text/html':\n     \"<div style='background-color: #fdd'>\\n\"+\n     \"<p>\\n\"+\n     \"BokehJS does not appear to have successfully loaded. If loading BokehJS from CDN, this \\n\"+\n     \"may be due to a slow or bad network connection. Possible fixes:\\n\"+\n     \"</p>\\n\"+\n     \"<ul>\\n\"+\n     \"<li>re-rerun `output_notebook()` to attempt to load from CDN again, or</li>\\n\"+\n     \"<li>use INLINE resources instead, as so:</li>\\n\"+\n     \"</ul>\\n\"+\n     \"<code>\\n\"+\n     \"from bokeh.resources import INLINE\\n\"+\n     \"output_notebook(resources=INLINE)\\n\"+\n     \"</code>\\n\"+\n     \"</div>\"}};\n\n  function display_loaded() {\n    var el = document.getElementById(\"f1d7bef3-4aa3-4d38-9ff0-d8b83182f530\");\n    if (el != null) {\n      el.textContent = \"BokehJS is loading...\";\n    }\n    if (root.Bokeh !== undefined) {\n      if (el != null) {\n        el.textContent = \"BokehJS \" + root.Bokeh.version + \" successfully loaded.\";\n      }\n    } else if (Date.now() < root._bokeh_timeout) {\n      setTimeout(display_loaded, 100)\n    }\n  }\n\n\n  function run_callbacks() {\n    try {\n      root._bokeh_onload_callbacks.forEach(function(callback) { callback() });\n    }\n    finally {\n      delete root._bokeh_onload_callbacks\n    }\n    console.info(\"Bokeh: all callbacks have finished\");\n  }\n\n  function load_libs(js_urls, callback) {\n    root._bokeh_onload_callbacks.push(callback);\n    if (root._bokeh_is_loading > 0) {\n      console.log(\"Bokeh: BokehJS is being loaded, scheduling callback at\", now());\n      return null;\n    }\n    if (js_urls == null || js_urls.length === 0) {\n      run_callbacks();\n      return null;\n    }\n    console.log(\"Bokeh: BokehJS not loaded, scheduling load and callback at\", now());\n    root._bokeh_is_loading = js_urls.length;\n    for (var i = 0; i < js_urls.length; i++) {\n      var url = js_urls[i];\n      var s = document.createElement('script');\n      s.src = url;\n      s.async = false;\n      s.onreadystatechange = s.onload = function() {\n        root._bokeh_is_loading--;\n        if (root._bokeh_is_loading === 0) {\n          console.log(\"Bokeh: all BokehJS libraries loaded\");\n          run_callbacks()\n        }\n      };\n      s.onerror = function() {\n        console.warn(\"failed to load library \" + url);\n      };\n      console.log(\"Bokeh: injecting script tag for BokehJS library: \", url);\n      document.getElementsByTagName(\"head\")[0].appendChild(s);\n    }\n  };var element = document.getElementById(\"f1d7bef3-4aa3-4d38-9ff0-d8b83182f530\");\n  if (element == null) {\n    console.log(\"Bokeh: ERROR: autoload.js configured with elementid 'f1d7bef3-4aa3-4d38-9ff0-d8b83182f530' but no matching script tag was found. \")\n    return false;\n  }\n\n  var js_urls = [\"https://cdn.pydata.org/bokeh/release/bokeh-0.13.0.min.js\", \"https://cdn.pydata.org/bokeh/release/bokeh-widgets-0.13.0.min.js\", \"https://cdn.pydata.org/bokeh/release/bokeh-tables-0.13.0.min.js\", \"https://cdn.pydata.org/bokeh/release/bokeh-gl-0.13.0.min.js\"];\n\n  var inline_js = [\n    function(Bokeh) {\n      Bokeh.set_log_level(\"info\");\n    },\n    \n    function(Bokeh) {\n      \n    },\n    function(Bokeh) {\n      console.log(\"Bokeh: injecting CSS: https://cdn.pydata.org/bokeh/release/bokeh-0.13.0.min.css\");\n      Bokeh.embed.inject_css(\"https://cdn.pydata.org/bokeh/release/bokeh-0.13.0.min.css\");\n      console.log(\"Bokeh: injecting CSS: https://cdn.pydata.org/bokeh/release/bokeh-widgets-0.13.0.min.css\");\n      Bokeh.embed.inject_css(\"https://cdn.pydata.org/bokeh/release/bokeh-widgets-0.13.0.min.css\");\n      console.log(\"Bokeh: injecting CSS: https://cdn.pydata.org/bokeh/release/bokeh-tables-0.13.0.min.css\");\n      Bokeh.embed.inject_css(\"https://cdn.pydata.org/bokeh/release/bokeh-tables-0.13.0.min.css\");\n    }\n  ];\n\n  function run_inline_js() {\n    \n    if ((root.Bokeh !== undefined) || (force === true)) {\n      for (var i = 0; i < inline_js.length; i++) {\n        inline_js[i].call(root, root.Bokeh);\n      }if (force === true) {\n        display_loaded();\n      }} else if (Date.now() < root._bokeh_timeout) {\n      setTimeout(run_inline_js, 100);\n    } else if (!root._bokeh_failed_load) {\n      console.log(\"Bokeh: BokehJS failed to load within specified timeout.\");\n      root._bokeh_failed_load = true;\n    } else if (force !== true) {\n      var cell = $(document.getElementById(\"f1d7bef3-4aa3-4d38-9ff0-d8b83182f530\")).parents('.cell').data().cell;\n      cell.output_area.append_execute_result(NB_LOAD_WARNING)\n    }\n\n  }\n\n  if (root._bokeh_is_loading === 0) {\n    console.log(\"Bokeh: BokehJS loaded, going straight to plotting\");\n    run_inline_js();\n  } else {\n    load_libs(js_urls, function() {\n      console.log(\"Bokeh: BokehJS plotting callback run at\", now());\n      run_inline_js();\n    });\n  }\n}(window));"
     },
     "metadata": {},
     "output_type": "display_data"
    }
   ],
   "source": [
    "from bokeh.io import show, output_notebook\n",
    "from bokeh.plotting import figure\n",
    "\n",
    "output_notebook()"
   ]
  },
  {
   "cell_type": "code",
   "execution_count": 18,
   "metadata": {},
   "outputs": [
    {
     "data": {
      "text/html": [
       "\n",
       "\n",
       "\n",
       "\n",
       "\n",
       "\n",
       "  <div class=\"bk-root\" id=\"bc60ce3d-5fbc-4843-af41-564affe7485e\"></div>\n"
      ]
     },
     "metadata": {},
     "output_type": "display_data"
    },
    {
     "data": {
      "application/javascript": [
       "(function(root) {\n",
       "  function embed_document(root) {\n",
       "    \n",
       "  var docs_json = {\"49fb1b31-dd00-4cac-9eec-52224f2948d8\":{\"roots\":{\"references\":[{\"attributes\":{\"callback\":null,\"data\":{\"end\":[],\"start\":[]},\"selected\":{\"id\":\"c8550289-9ee1-4d81-a785-282216d7058e\",\"type\":\"Selection\"},\"selection_policy\":{\"id\":\"a08166c1-b715-43f7-ba61-774452b60cb2\",\"type\":\"UnionRenderers\"}},\"id\":\"37ebec18-59fe-4178-bd80-41bd0abbc7d3\",\"type\":\"ColumnDataSource\"},{\"attributes\":{},\"id\":\"4cd63c52-1d44-4b9a-b4a6-92ae66c05786\",\"type\":\"MultiLine\"},{\"attributes\":{},\"id\":\"d15874c6-2a76-4a26-8aae-2ad15ff1a4de\",\"type\":\"NodesOnly\"},{\"attributes\":{\"plot\":null,\"text\":\"\"},\"id\":\"2fb31bb8-a917-4576-ae04-e0f39fe99c58\",\"type\":\"Title\"},{\"attributes\":{},\"id\":\"63e631ff-f1ed-40a0-9840-648051fd4246\",\"type\":\"StaticLayoutProvider\"},{\"attributes\":{},\"id\":\"96529c75-8829-45d6-8dec-1b26cc38aeb6\",\"type\":\"LinearScale\"},{\"attributes\":{},\"id\":\"999b71ff-2584-45cb-9e73-9c609d6f8199\",\"type\":\"UnionRenderers\"},{\"attributes\":{\"source\":{\"id\":\"499c678b-bf4a-4675-9348-a6ddaa24a25c\",\"type\":\"ColumnDataSource\"}},\"id\":\"f88eb03e-5568-4433-8f04-788f0d1590cd\",\"type\":\"CDSView\"},{\"attributes\":{\"source\":{\"id\":\"37ebec18-59fe-4178-bd80-41bd0abbc7d3\",\"type\":\"ColumnDataSource\"}},\"id\":\"66b720a8-1f4d-448a-af9e-759088a27639\",\"type\":\"CDSView\"},{\"attributes\":{},\"id\":\"a08166c1-b715-43f7-ba61-774452b60cb2\",\"type\":\"UnionRenderers\"},{\"attributes\":{\"renderers\":[{\"id\":\"be755022-a78b-478c-ac21-76c1b018b225\",\"type\":\"GraphRenderer\"}],\"title\":{\"id\":\"2fb31bb8-a917-4576-ae04-e0f39fe99c58\",\"type\":\"Title\"},\"toolbar\":{\"id\":\"4a90532d-887c-4342-9d41-f429db12e829\",\"type\":\"Toolbar\"},\"x_range\":{\"id\":\"d2aa0fa6-c4b1-4610-b3d3-221642398ce6\",\"type\":\"Range1d\"},\"x_scale\":{\"id\":\"bc185079-5dfe-45da-8050-c602dcaf1c5b\",\"type\":\"LinearScale\"},\"y_range\":{\"id\":\"e3e6b813-38b4-47a0-a978-b6b52b26257c\",\"type\":\"Range1d\"},\"y_scale\":{\"id\":\"96529c75-8829-45d6-8dec-1b26cc38aeb6\",\"type\":\"LinearScale\"}},\"id\":\"0fed97ce-8eb8-472b-a28d-ea06c47a0c2f\",\"type\":\"Plot\"},{\"attributes\":{},\"id\":\"c8550289-9ee1-4d81-a785-282216d7058e\",\"type\":\"Selection\"},{\"attributes\":{},\"id\":\"8e3b15e0-e427-48d4-9414-134ca9fcfd29\",\"type\":\"Circle\"},{\"attributes\":{\"data_source\":{\"id\":\"499c678b-bf4a-4675-9348-a6ddaa24a25c\",\"type\":\"ColumnDataSource\"},\"glyph\":{\"id\":\"8e3b15e0-e427-48d4-9414-134ca9fcfd29\",\"type\":\"Circle\"},\"hover_glyph\":null,\"muted_glyph\":null,\"view\":{\"id\":\"f88eb03e-5568-4433-8f04-788f0d1590cd\",\"type\":\"CDSView\"}},\"id\":\"6cbf82c5-1138-4a92-ad25-7c13eb84be4b\",\"type\":\"GlyphRenderer\"},{\"attributes\":{\"data_source\":{\"id\":\"37ebec18-59fe-4178-bd80-41bd0abbc7d3\",\"type\":\"ColumnDataSource\"},\"glyph\":{\"id\":\"4cd63c52-1d44-4b9a-b4a6-92ae66c05786\",\"type\":\"MultiLine\"},\"hover_glyph\":null,\"muted_glyph\":null,\"view\":{\"id\":\"66b720a8-1f4d-448a-af9e-759088a27639\",\"type\":\"CDSView\"}},\"id\":\"f34fcb40-33ed-46b0-a0b2-c9c126d65094\",\"type\":\"GlyphRenderer\"},{\"attributes\":{},\"id\":\"a371345c-6f80-4bee-849f-b87f2b72b0f1\",\"type\":\"Selection\"},{\"attributes\":{\"callback\":null,\"end\":10,\"start\":1},\"id\":\"d2aa0fa6-c4b1-4610-b3d3-221642398ce6\",\"type\":\"Range1d\"},{\"attributes\":{\"edge_renderer\":{\"id\":\"f34fcb40-33ed-46b0-a0b2-c9c126d65094\",\"type\":\"GlyphRenderer\"},\"inspection_policy\":{\"id\":\"d15874c6-2a76-4a26-8aae-2ad15ff1a4de\",\"type\":\"NodesOnly\"},\"layout_provider\":{\"id\":\"63e631ff-f1ed-40a0-9840-648051fd4246\",\"type\":\"StaticLayoutProvider\"},\"node_renderer\":{\"id\":\"6cbf82c5-1138-4a92-ad25-7c13eb84be4b\",\"type\":\"GlyphRenderer\"},\"selection_policy\":{\"id\":\"4cf861ed-7ec0-4390-81ee-58e64f71d0b1\",\"type\":\"NodesOnly\"}},\"id\":\"be755022-a78b-478c-ac21-76c1b018b225\",\"type\":\"GraphRenderer\"},{\"attributes\":{\"active_drag\":\"auto\",\"active_inspect\":\"auto\",\"active_multi\":null,\"active_scroll\":\"auto\",\"active_tap\":\"auto\"},\"id\":\"4a90532d-887c-4342-9d41-f429db12e829\",\"type\":\"Toolbar\"},{\"attributes\":{},\"id\":\"bc185079-5dfe-45da-8050-c602dcaf1c5b\",\"type\":\"LinearScale\"},{\"attributes\":{\"callback\":null,\"end\":10,\"start\":1},\"id\":\"e3e6b813-38b4-47a0-a978-b6b52b26257c\",\"type\":\"Range1d\"},{\"attributes\":{\"callback\":null,\"data\":{\"index\":[]},\"selected\":{\"id\":\"a371345c-6f80-4bee-849f-b87f2b72b0f1\",\"type\":\"Selection\"},\"selection_policy\":{\"id\":\"999b71ff-2584-45cb-9e73-9c609d6f8199\",\"type\":\"UnionRenderers\"}},\"id\":\"499c678b-bf4a-4675-9348-a6ddaa24a25c\",\"type\":\"ColumnDataSource\"},{\"attributes\":{},\"id\":\"4cf861ed-7ec0-4390-81ee-58e64f71d0b1\",\"type\":\"NodesOnly\"}],\"root_ids\":[\"0fed97ce-8eb8-472b-a28d-ea06c47a0c2f\"]},\"title\":\"Bokeh Application\",\"version\":\"0.13.0\"}};\n",
       "  var render_items = [{\"docid\":\"49fb1b31-dd00-4cac-9eec-52224f2948d8\",\"roots\":{\"0fed97ce-8eb8-472b-a28d-ea06c47a0c2f\":\"bc60ce3d-5fbc-4843-af41-564affe7485e\"}}];\n",
       "  root.Bokeh.embed.embed_items_notebook(docs_json, render_items);\n",
       "\n",
       "  }\n",
       "  if (root.Bokeh !== undefined) {\n",
       "    embed_document(root);\n",
       "  } else {\n",
       "    var attempts = 0;\n",
       "    var timer = setInterval(function(root) {\n",
       "      if (root.Bokeh !== undefined) {\n",
       "        embed_document(root);\n",
       "        clearInterval(timer);\n",
       "      }\n",
       "      attempts++;\n",
       "      if (attempts > 100) {\n",
       "        console.log(\"Bokeh: ERROR: Unable to run BokehJS code because BokehJS library is missing\")\n",
       "        clearInterval(timer);\n",
       "      }\n",
       "    }, 10, root)\n",
       "  }\n",
       "})(window);"
      ],
      "application/vnd.bokehjs_exec.v0+json": ""
     },
     "metadata": {
      "application/vnd.bokehjs_exec.v0+json": {
       "id": "0fed97ce-8eb8-472b-a28d-ea06c47a0c2f"
      }
     },
     "output_type": "display_data"
    },
    {
     "data": {
      "text/plain": [
       "NodeView(())"
      ]
     },
     "execution_count": 18,
     "metadata": {},
     "output_type": "execute_result"
    }
   ],
   "source": [
    "#prov.graph.prov_to_graph(prov_document)\n",
    "import prov.graph as graph\n",
    "nwx = graph.prov_to_graph(doc1)\n",
    "plot = Plot(x_range=Range1d(1, 10), y_range=Range1d(1, 10))\n",
    "\n",
    "# Create a Bokeh graph from the NetworkX input using nx.spring_layout\n",
    "graph = from_networkx(nwx, nx.spring_layout, scale=1.8, center=(0,0))\n",
    "plot.renderers.append(graph)\n",
    "show(plot)\n"
   ]
  },
  {
   "cell_type": "code",
   "execution_count": null,
   "metadata": {},
   "outputs": [],
   "source": []
  }
 ],
 "metadata": {
  "kernelspec": {
   "display_name": "Python 3",
   "language": "python",
   "name": "python3"
  },
  "language_info": {
   "codemirror_mode": {
    "name": "ipython",
    "version": 3
   },
   "file_extension": ".py",
   "mimetype": "text/x-python",
   "name": "python",
   "nbconvert_exporter": "python",
   "pygments_lexer": "ipython3",
   "version": "3.6.6"
  }
 },
 "nbformat": 4,
 "nbformat_minor": 2
}
