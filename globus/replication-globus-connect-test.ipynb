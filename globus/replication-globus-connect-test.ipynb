{
 "cells": [
  {
   "cell_type": "markdown",
   "metadata": {},
   "source": [
    "## globus connect\n",
    "\n",
    "* https://www.globusid.org/\n",
    "* https://www.globus.org/app/activity\n",
    "* https://docs.globus.org/ \n",
    "*  https://docs.globus.org/cli/examples/"
   ]
  },
  {
   "cell_type": "markdown",
   "metadata": {},
   "source": [
    "## globus cli and globus sdk\n",
    "\n",
    "* sdk documentation: https://globus-sdk-python.readthedocs.io/en/stable/\n",
    "* cli documentation: https://docs.globus.org/cli/\n",
    "   * add globus cli to PATH\n",
    "   \n",
    "### Prerequisite: registered globus app with associated rights\n",
    "\n",
    "(see globus sdk documentation with respect to registration)"
   ]
  },
  {
   "cell_type": "code",
   "execution_count": 1,
   "metadata": {},
   "outputs": [
    {
     "name": "stdout",
     "output_type": "stream",
     "text": [
      "Please go to this URL and login: https://auth.globus.org/v2/oauth2/authorize?client_id=933535bb-a28d-4ced-af57-da6bebd4e0a6&redirect_uri=https%3A%2F%2Fauth.globus.org%2Fv2%2Fweb%2Fauth-code&scope=openid+profile+email+urn%3Aglobus%3Aauth%3Ascope%3Atransfer.api.globus.org%3Aall&state=_default&response_type=code&code_challenge=BFhgCOAVunVZZciHZN9Q_FuK2gQ8DAR3CL1fUFhClbM&code_challenge_method=S256&access_type=online\n"
     ]
    }
   ],
   "source": [
    "# replication_test app registered in ESGF_DKRZ globus project space\n",
    "# get the client id: https://developers.globus.org/   ( https://globus-sdk-python.readthedocs.io/en/stable/tutorial/ )\n",
    "# clientid = 933535bb-a28d-4ced-af57-da6bebd4e0a6\n",
    "\n",
    "import globus_sdk\n",
    "CLIENT_ID = '933535bb-a28d-4ced-af57-da6bebd4e0a6'\n",
    "client = globus_sdk.NativeAppAuthClient(CLIENT_ID)\n",
    "client.oauth2_start_flow()\n",
    "\n",
    "authorize_url = client.oauth2_get_authorize_url()\n",
    "print('Please go to this URL and login: {0}'.format(authorize_url))\n"
   ]
  },
  {
   "cell_type": "code",
   "execution_count": 2,
   "metadata": {},
   "outputs": [],
   "source": [
    "auth_code ='RpKXEnhEG91Pv0EB6OsurNkoeebTnx'\n",
    "token_response = client.oauth2_exchange_code_for_tokens(auth_code)\n",
    "\n",
    "globus_auth_data = token_response.by_resource_server['auth.globus.org']\n",
    "globus_transfer_data = token_response.by_resource_server['transfer.api.globus.org']\n",
    "\n",
    "# most specifically, you want these tokens as strings\n",
    "AUTH_TOKEN = globus_auth_data['access_token']\n",
    "TRANSFER_TOKEN = globus_transfer_data['access_token']"
   ]
  },
  {
   "cell_type": "code",
   "execution_count": 3,
   "metadata": {},
   "outputs": [
    {
     "name": "stdout",
     "output_type": "stream",
     "text": [
      "My Endpoints:\n",
      "[7c32e150-6f02-11e8-9327-0a6d4e044368] cmip-comp2-dkrz\n",
      "[ff780758-6eed-11e8-9327-0a6d4e044368] stephan_dkrz_lab\n"
     ]
    }
   ],
   "source": [
    "# a GlobusAuthorizer is an auxiliary object we use to wrap the token. In\n",
    "# more advanced scenarios, other types of GlobusAuthorizers give us\n",
    "# expressive power\n",
    "authorizer = globus_sdk.AccessTokenAuthorizer(TRANSFER_TOKEN)\n",
    "tc = globus_sdk.TransferClient(authorizer=authorizer)\n",
    "\n",
    "# high level interface; provides iterators for list responses\n",
    "print(\"My Endpoints:\")\n",
    "for ep in tc.endpoint_search(filter_scope=\"my-endpoints\"):\n",
    "    print(\"[{}] {}\".format(ep[\"id\"], ep[\"display_name\"]))"
   ]
  },
  {
   "cell_type": "code",
   "execution_count": 7,
   "metadata": {},
   "outputs": [
    {
     "name": "stdout",
     "output_type": "stream",
     "text": [
      "LLNL endpoint: dd1ee76f-6d04-11e5-ba46-22000b92c6ec\n"
     ]
    }
   ],
   "source": [
    "endpoint_name = \"LLNL AIMS ESGF DTNs\"\n",
    "eps = tc.endpoint_search(endpoint_name, fields=\"id,display_name\")\n",
    "endpoint_id = None\n",
    "for ep in eps:\n",
    "    if ep[\"display_name\"] == endpoint_name:\n",
    "        endpoint_id = ep[\"id\"]\n",
    "        break\n",
    "print(\"LLNL endpoint:\", endpoint_id)        "
   ]
  },
  {
   "cell_type": "code",
   "execution_count": 6,
   "metadata": {},
   "outputs": [
    {
     "name": "stdout",
     "output_type": "stream",
     "text": [
      "LLNL endpoint: None\n"
     ]
    }
   ],
   "source": [
    "endpoint_name = \"cmip-transfer2\"\n",
    "eps = tc.endpoint_search(endpoint_name, fields=\"id,display_name\")\n",
    "endpoint_id = None\n",
    "for ep in eps:\n",
    "    if ep[\"display_name\"] == endpoint_name:\n",
    "        endpoint_id = ep[\"id\"]\n",
    "        break\n",
    "print(\"LLNL endpoint:\", endpoint_id) "
   ]
  },
  {
   "cell_type": "code",
   "execution_count": 9,
   "metadata": {},
   "outputs": [
    {
     "name": "stdout",
     "output_type": "stream",
     "text": [
      "Task not yet complete (status ACTIVE), sleeping for 15 seconds...\n",
      "Task completed with status SUCCEEDED\n"
     ]
    }
   ],
   "source": [
    "source_id = \"dd1ee76f-6d04-11e5-ba46-22000b92c6ec\"\n",
    "dest_id = \"86ce3984-7ae2-11e8-9443-0a6d4e044368\"\n",
    "tc.endpoint_autoactivate(source_id)\n",
    "tc.endpoint_autoactivate(dest_id)\n",
    "\n",
    "# This does not exactly match -a, for example it cannot preserve permissions or ownership.\n",
    "tdata = globus_sdk.TransferData(tc, source_id, dest_id,\n",
    "                                preserve_timestamp=True)\n",
    "\n",
    "source_dir = \"/~/css03_data/CMIP6/CMIP/NASA-GISS/GISS-E2-1-G/amip/r5i1p1f1/Amon/hfls/gn/v20181016/\"\n",
    "target_dir = \"/data/transfer/import\"\n",
    "tdata.add_item(source_dir, target_dir, recursive=True)\n",
    "\n",
    "submit_result = tc.submit_transfer(tdata)\n",
    "\n",
    "# wait until transfer is complete, by polling every 15 seconds\n",
    "import time\n",
    "\n",
    "poll_interval = 15 # how long to sleep (in seconds) between polls\n",
    "max_wait = 360 # only wait for up to this many seconds\n",
    "wait_time = 0 # how long we've waited for the task so far\n",
    "\n",
    "while True:\n",
    "    status = tc.get_task(submit_result[\"task_id\"], fields=\"status\")[\"status\"]\n",
    "    if status in (\"SUCCEEDED\", \"FAILED\"):\n",
    "        print(\"Task completed with status\", status)\n",
    "        break\n",
    "        \n",
    "    if wait_time >= max_wait:\n",
    "        print(\"Task did not complete before max wait time\")\n",
    "        break\n",
    "    \n",
    "    print(\"Task not yet complete (status {}), sleeping for {} seconds...\".format(\n",
    "          status, poll_interval))\n",
    "    time.sleep(poll_interval)\n",
    "    wait_time += poll_interval"
   ]
  },
  {
   "cell_type": "markdown",
   "metadata": {},
   "source": [
    "### test of globbus connect personal and old ESGF portal globus command line access\n",
    "\n",
    "* Installation: https://www.globus.org/globus-connect-personal \n",
    "* myproxy: systemctl status myproxy-server.service"
   ]
  },
  {
   "cell_type": "code",
   "execution_count": null,
   "metadata": {},
   "outputs": [],
   "source": [
    "### globus connect personal use on laptop with esgf portal:\n",
    "### pip install globus-cli or globus-sdk \n",
    "\n",
    "./globusconnectpersonal -start\n",
    "\n",
    "globus login\n",
    "globus endpoint search --filter-scope my-endpoints\n",
    "globus endpoint search --filter-scope my-endpoints\n",
    "globus transfer --help\n",
    "\n",
    "download script\n",
    "python globus_download_20180613_062251.py -e stephank16#7c32e150-6f02-11e8-9327-0a6d4e044368 -u stephank16 -s .ssh/github_rsa\n",
    "\n",
    "NOTICE: This CLI (cli.globusonline.org) has been deprecated and support\n",
    "will be discontinued on August 1 2018.  Please use the GLobus CLI\n",
    "(https://docs.globus.org/cli/), a standalone client application.\n",
    "If you have any questions or need help migrating to the new CLI,\n",
    "contact support@globus.org.\n",
    "\n",
    "Task ID: 43a8c0ac-7ba7-11e8-944f-0a6d4e044368\n",
    "\n",
    "    -- and only works for python2.7 !!"
   ]
  },
  {
   "cell_type": "code",
   "execution_count": null,
   "metadata": {},
   "outputs": [],
   "source": [
    "### globus connect personal on cmip-comp2 \n",
    "\n",
    "export PATH=/home/dkrz/k202015/anaconda3/bin:$PATH\n",
    "globus endpoint create --personal cmip-comp2-dkrz\n",
    "./globusconnectpersonal -start\n",
    "globus login\n",
    "\n",
    " ./globusconnectpersonal -setup 6ef533e6-9b51-4043-9ae3-950462a99f98\n",
    "\n",
    "globus endpoint create --personal cmip-comp2-dkrz\n",
    "globus endpoint search --filter-scope my-endpoints\n",
    "\n",
    "\n",
    "\n",
    "globus  ls 4981cd16-d651-11e6-9ccd-22000a1e3b52:/cmip6_dc1/CMIP6/CMIP/\n",
    "globus transfer 4981cd16-d651-11e6-9ccd-22000a1e3b52:/cmip6_dc1/CMIP6/CMIP/IPSL/IPSL-CM6A-LR/piControl/r1i1p1f1/Emon/ocontempdiff/gn/v20180314/ 7c32e150-6f02-11e8-9327-0a6d4e044368  \n",
    "globus transfer  --recursive 4981cd16-d651-11e6-9ccd-22000a1e3b52:/cmip6_dc1/CMIP6/CMIP/IPSL/IPSL-CM6A-LR/piControl/r1i1p1f1/Emon/ocontempdiff/gn/v20180314/ 7c32e150-6f02-11e8-9327-0a6d4e044368\n",
    "globus transfer  --recursive 4981cd16-d651-11e6-9ccd-22000a1e3b52:/cmip6_dc1/CMIP6/CMIP/IPSL/IPSL-CM6A-LR/piControl/r1i1p1f1/Emon/ocontempdiff/gn/v20180314/ 7c32e150-6f02-11e8-9327-0a6d4e044368:/home/dkrz/k202015\n"
   ]
  },
  {
   "cell_type": "markdown",
   "metadata": {},
   "source": [
    "### globus connect server\n",
    "\n",
    "* Installation: https://docs.globus.org/globus-connect-server-installation-guide/ \n",
    "\n",
    "   *  sudo curl -LOs https://downloads.globus.org/toolkit/globus-connect-server/globus-connect-server-repo-latest.noarch.rpm\n",
    "     \n",
    "   *  sudo rpm --import https://downloads.globus.org/toolkit/gt6/stable/repo/rpm/RPM-GPG-KEY-Globus\n",
    "     \n",
    "   *   sudo yum install globus-connect-server-repo-latest.noarch.rpm\n",
    "     \n",
    "   *  sudo yum install globus-connect-server\n",
    "     \n",
    "   *  sudo yum install bzip2\n",
    "     \n",
    "   *  sudo vi /etc/globus-connect-server.conf\n",
    "     \n",
    "   *  sudo globus-connect-server-setup\n",
    "     \n",
    "* ESGF AA: https://www.earthsystemcog.org/projects/cog/dtn_setup     \n",
    "     "
   ]
  },
  {
   "cell_type": "code",
   "execution_count": null,
   "metadata": {},
   "outputs": [],
   "source": []
  }
 ],
 "metadata": {
  "kernelspec": {
   "display_name": "Python 3",
   "language": "python",
   "name": "python3"
  },
  "language_info": {
   "codemirror_mode": {
    "name": "ipython",
    "version": 3
   },
   "file_extension": ".py",
   "mimetype": "text/x-python",
   "name": "python",
   "nbconvert_exporter": "python",
   "pygments_lexer": "ipython3",
   "version": "3.6.6"
  }
 },
 "nbformat": 4,
 "nbformat_minor": 2
}
